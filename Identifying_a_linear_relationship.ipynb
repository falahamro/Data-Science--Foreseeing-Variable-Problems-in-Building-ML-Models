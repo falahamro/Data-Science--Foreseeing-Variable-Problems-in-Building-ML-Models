{
  "cells": [
    {
      "cell_type": "markdown",
      "metadata": {
        "id": "view-in-github",
        "colab_type": "text"
      },
      "source": [
        "<a href=\"https://colab.research.google.com/github/falahamro/Data-Science--Foreseeing-Variable-Problems-in-Building-ML-Models/blob/main/Identifying_a_linear_relationship.ipynb\" target=\"_parent\"><img src=\"https://colab.research.google.com/assets/colab-badge.svg\" alt=\"Open In Colab\"/></a>"
      ]
    },
    {
      "cell_type": "markdown",
      "metadata": {
        "id": "tFRKPcOUlYUx"
      },
      "source": [
        "Linear models assume that the dependent variables X take a linear relationship with the dependent variable Y. If the assumption is not met, the model may show poor performance. In this recipe, we will learn how to visualize the linear relationships between X and Y."
      ]
    },
    {
      "cell_type": "code",
      "execution_count": 1,
      "metadata": {
        "id": "SysIt9_xlYUz"
      },
      "outputs": [],
      "source": [
        "import pandas as pd\n",
        "import numpy as np\n",
        "\n",
        "# for plotting\n",
        "import matplotlib.pyplot as plt\n",
        "import seaborn as sns\n",
        "\n",
        "# the dataset for the demo\n",
        "from sklearn.datasets import load_boston\n",
        "\n",
        "# for linear regression\n",
        "from sklearn.linear_model import LinearRegression"
      ]
    },
    {
      "cell_type": "code",
      "execution_count": 2,
      "metadata": {
        "colab": {
          "base_uri": "https://localhost:8080/",
          "height": 831
        },
        "id": "VaU82dBNlYU0",
        "outputId": "0761a235-44a0-476a-f545-45404615a5b7"
      },
      "outputs": [
        {
          "output_type": "stream",
          "name": "stderr",
          "text": [
            "/usr/local/lib/python3.7/dist-packages/sklearn/utils/deprecation.py:87: FutureWarning: Function load_boston is deprecated; `load_boston` is deprecated in 1.0 and will be removed in 1.2.\n",
            "\n",
            "    The Boston housing prices dataset has an ethical problem. You can refer to\n",
            "    the documentation of this function for further details.\n",
            "\n",
            "    The scikit-learn maintainers therefore strongly discourage the use of this\n",
            "    dataset unless the purpose of the code is to study and educate about\n",
            "    ethical issues in data science and machine learning.\n",
            "\n",
            "    In this special case, you can fetch the dataset from the original\n",
            "    source::\n",
            "\n",
            "        import pandas as pd\n",
            "        import numpy as np\n",
            "\n",
            "\n",
            "        data_url = \"http://lib.stat.cmu.edu/datasets/boston\"\n",
            "        raw_df = pd.read_csv(data_url, sep=\"\\s+\", skiprows=22, header=None)\n",
            "        data = np.hstack([raw_df.values[::2, :], raw_df.values[1::2, :2]])\n",
            "        target = raw_df.values[1::2, 2]\n",
            "\n",
            "    Alternative datasets include the California housing dataset (i.e.\n",
            "    :func:`~sklearn.datasets.fetch_california_housing`) and the Ames housing\n",
            "    dataset. You can load the datasets as follows::\n",
            "\n",
            "        from sklearn.datasets import fetch_california_housing\n",
            "        housing = fetch_california_housing()\n",
            "\n",
            "    for the California housing dataset and::\n",
            "\n",
            "        from sklearn.datasets import fetch_openml\n",
            "        housing = fetch_openml(name=\"house_prices\", as_frame=True)\n",
            "\n",
            "    for the Ames housing dataset.\n",
            "    \n",
            "  warnings.warn(msg, category=FutureWarning)\n"
          ]
        },
        {
          "output_type": "execute_result",
          "data": {
            "text/plain": [
              "      CRIM    ZN  INDUS  CHAS    NOX     RM   AGE     DIS  RAD    TAX  \\\n",
              "0  0.00632  18.0   2.31   0.0  0.538  6.575  65.2  4.0900  1.0  296.0   \n",
              "1  0.02731   0.0   7.07   0.0  0.469  6.421  78.9  4.9671  2.0  242.0   \n",
              "2  0.02729   0.0   7.07   0.0  0.469  7.185  61.1  4.9671  2.0  242.0   \n",
              "3  0.03237   0.0   2.18   0.0  0.458  6.998  45.8  6.0622  3.0  222.0   \n",
              "4  0.06905   0.0   2.18   0.0  0.458  7.147  54.2  6.0622  3.0  222.0   \n",
              "\n",
              "   PTRATIO       B  LSTAT  MEDV  \n",
              "0     15.3  396.90   4.98  24.0  \n",
              "1     17.8  396.90   9.14  21.6  \n",
              "2     17.8  392.83   4.03  34.7  \n",
              "3     18.7  394.63   2.94  33.4  \n",
              "4     18.7  396.90   5.33  36.2  "
            ],
            "text/html": [
              "\n",
              "  <div id=\"df-dcff5447-c007-4901-a71c-41b0ce8835d9\">\n",
              "    <div class=\"colab-df-container\">\n",
              "      <div>\n",
              "<style scoped>\n",
              "    .dataframe tbody tr th:only-of-type {\n",
              "        vertical-align: middle;\n",
              "    }\n",
              "\n",
              "    .dataframe tbody tr th {\n",
              "        vertical-align: top;\n",
              "    }\n",
              "\n",
              "    .dataframe thead th {\n",
              "        text-align: right;\n",
              "    }\n",
              "</style>\n",
              "<table border=\"1\" class=\"dataframe\">\n",
              "  <thead>\n",
              "    <tr style=\"text-align: right;\">\n",
              "      <th></th>\n",
              "      <th>CRIM</th>\n",
              "      <th>ZN</th>\n",
              "      <th>INDUS</th>\n",
              "      <th>CHAS</th>\n",
              "      <th>NOX</th>\n",
              "      <th>RM</th>\n",
              "      <th>AGE</th>\n",
              "      <th>DIS</th>\n",
              "      <th>RAD</th>\n",
              "      <th>TAX</th>\n",
              "      <th>PTRATIO</th>\n",
              "      <th>B</th>\n",
              "      <th>LSTAT</th>\n",
              "      <th>MEDV</th>\n",
              "    </tr>\n",
              "  </thead>\n",
              "  <tbody>\n",
              "    <tr>\n",
              "      <th>0</th>\n",
              "      <td>0.00632</td>\n",
              "      <td>18.0</td>\n",
              "      <td>2.31</td>\n",
              "      <td>0.0</td>\n",
              "      <td>0.538</td>\n",
              "      <td>6.575</td>\n",
              "      <td>65.2</td>\n",
              "      <td>4.0900</td>\n",
              "      <td>1.0</td>\n",
              "      <td>296.0</td>\n",
              "      <td>15.3</td>\n",
              "      <td>396.90</td>\n",
              "      <td>4.98</td>\n",
              "      <td>24.0</td>\n",
              "    </tr>\n",
              "    <tr>\n",
              "      <th>1</th>\n",
              "      <td>0.02731</td>\n",
              "      <td>0.0</td>\n",
              "      <td>7.07</td>\n",
              "      <td>0.0</td>\n",
              "      <td>0.469</td>\n",
              "      <td>6.421</td>\n",
              "      <td>78.9</td>\n",
              "      <td>4.9671</td>\n",
              "      <td>2.0</td>\n",
              "      <td>242.0</td>\n",
              "      <td>17.8</td>\n",
              "      <td>396.90</td>\n",
              "      <td>9.14</td>\n",
              "      <td>21.6</td>\n",
              "    </tr>\n",
              "    <tr>\n",
              "      <th>2</th>\n",
              "      <td>0.02729</td>\n",
              "      <td>0.0</td>\n",
              "      <td>7.07</td>\n",
              "      <td>0.0</td>\n",
              "      <td>0.469</td>\n",
              "      <td>7.185</td>\n",
              "      <td>61.1</td>\n",
              "      <td>4.9671</td>\n",
              "      <td>2.0</td>\n",
              "      <td>242.0</td>\n",
              "      <td>17.8</td>\n",
              "      <td>392.83</td>\n",
              "      <td>4.03</td>\n",
              "      <td>34.7</td>\n",
              "    </tr>\n",
              "    <tr>\n",
              "      <th>3</th>\n",
              "      <td>0.03237</td>\n",
              "      <td>0.0</td>\n",
              "      <td>2.18</td>\n",
              "      <td>0.0</td>\n",
              "      <td>0.458</td>\n",
              "      <td>6.998</td>\n",
              "      <td>45.8</td>\n",
              "      <td>6.0622</td>\n",
              "      <td>3.0</td>\n",
              "      <td>222.0</td>\n",
              "      <td>18.7</td>\n",
              "      <td>394.63</td>\n",
              "      <td>2.94</td>\n",
              "      <td>33.4</td>\n",
              "    </tr>\n",
              "    <tr>\n",
              "      <th>4</th>\n",
              "      <td>0.06905</td>\n",
              "      <td>0.0</td>\n",
              "      <td>2.18</td>\n",
              "      <td>0.0</td>\n",
              "      <td>0.458</td>\n",
              "      <td>7.147</td>\n",
              "      <td>54.2</td>\n",
              "      <td>6.0622</td>\n",
              "      <td>3.0</td>\n",
              "      <td>222.0</td>\n",
              "      <td>18.7</td>\n",
              "      <td>396.90</td>\n",
              "      <td>5.33</td>\n",
              "      <td>36.2</td>\n",
              "    </tr>\n",
              "  </tbody>\n",
              "</table>\n",
              "</div>\n",
              "      <button class=\"colab-df-convert\" onclick=\"convertToInteractive('df-dcff5447-c007-4901-a71c-41b0ce8835d9')\"\n",
              "              title=\"Convert this dataframe to an interactive table.\"\n",
              "              style=\"display:none;\">\n",
              "        \n",
              "  <svg xmlns=\"http://www.w3.org/2000/svg\" height=\"24px\"viewBox=\"0 0 24 24\"\n",
              "       width=\"24px\">\n",
              "    <path d=\"M0 0h24v24H0V0z\" fill=\"none\"/>\n",
              "    <path d=\"M18.56 5.44l.94 2.06.94-2.06 2.06-.94-2.06-.94-.94-2.06-.94 2.06-2.06.94zm-11 1L8.5 8.5l.94-2.06 2.06-.94-2.06-.94L8.5 2.5l-.94 2.06-2.06.94zm10 10l.94 2.06.94-2.06 2.06-.94-2.06-.94-.94-2.06-.94 2.06-2.06.94z\"/><path d=\"M17.41 7.96l-1.37-1.37c-.4-.4-.92-.59-1.43-.59-.52 0-1.04.2-1.43.59L10.3 9.45l-7.72 7.72c-.78.78-.78 2.05 0 2.83L4 21.41c.39.39.9.59 1.41.59.51 0 1.02-.2 1.41-.59l7.78-7.78 2.81-2.81c.8-.78.8-2.07 0-2.86zM5.41 20L4 18.59l7.72-7.72 1.47 1.35L5.41 20z\"/>\n",
              "  </svg>\n",
              "      </button>\n",
              "      \n",
              "  <style>\n",
              "    .colab-df-container {\n",
              "      display:flex;\n",
              "      flex-wrap:wrap;\n",
              "      gap: 12px;\n",
              "    }\n",
              "\n",
              "    .colab-df-convert {\n",
              "      background-color: #E8F0FE;\n",
              "      border: none;\n",
              "      border-radius: 50%;\n",
              "      cursor: pointer;\n",
              "      display: none;\n",
              "      fill: #1967D2;\n",
              "      height: 32px;\n",
              "      padding: 0 0 0 0;\n",
              "      width: 32px;\n",
              "    }\n",
              "\n",
              "    .colab-df-convert:hover {\n",
              "      background-color: #E2EBFA;\n",
              "      box-shadow: 0px 1px 2px rgba(60, 64, 67, 0.3), 0px 1px 3px 1px rgba(60, 64, 67, 0.15);\n",
              "      fill: #174EA6;\n",
              "    }\n",
              "\n",
              "    [theme=dark] .colab-df-convert {\n",
              "      background-color: #3B4455;\n",
              "      fill: #D2E3FC;\n",
              "    }\n",
              "\n",
              "    [theme=dark] .colab-df-convert:hover {\n",
              "      background-color: #434B5C;\n",
              "      box-shadow: 0px 1px 3px 1px rgba(0, 0, 0, 0.15);\n",
              "      filter: drop-shadow(0px 1px 2px rgba(0, 0, 0, 0.3));\n",
              "      fill: #FFFFFF;\n",
              "    }\n",
              "  </style>\n",
              "\n",
              "      <script>\n",
              "        const buttonEl =\n",
              "          document.querySelector('#df-dcff5447-c007-4901-a71c-41b0ce8835d9 button.colab-df-convert');\n",
              "        buttonEl.style.display =\n",
              "          google.colab.kernel.accessAllowed ? 'block' : 'none';\n",
              "\n",
              "        async function convertToInteractive(key) {\n",
              "          const element = document.querySelector('#df-dcff5447-c007-4901-a71c-41b0ce8835d9');\n",
              "          const dataTable =\n",
              "            await google.colab.kernel.invokeFunction('convertToInteractive',\n",
              "                                                     [key], {});\n",
              "          if (!dataTable) return;\n",
              "\n",
              "          const docLinkHtml = 'Like what you see? Visit the ' +\n",
              "            '<a target=\"_blank\" href=https://colab.research.google.com/notebooks/data_table.ipynb>data table notebook</a>'\n",
              "            + ' to learn more about interactive tables.';\n",
              "          element.innerHTML = '';\n",
              "          dataTable['output_type'] = 'display_data';\n",
              "          await google.colab.output.renderOutput(dataTable, element);\n",
              "          const docLink = document.createElement('div');\n",
              "          docLink.innerHTML = docLinkHtml;\n",
              "          element.appendChild(docLink);\n",
              "        }\n",
              "      </script>\n",
              "    </div>\n",
              "  </div>\n",
              "  "
            ]
          },
          "metadata": {},
          "execution_count": 2
        }
      ],
      "source": [
        "# load the the Boston House price data from scikit-learn\n",
        "\n",
        "# this is how we load the boston dataset from sklearn\n",
        "boston_dataset = load_boston()\n",
        "\n",
        "# create a dataframe with the independent variables\n",
        "boston = pd.DataFrame(boston_dataset.data,\n",
        "                      columns=boston_dataset.feature_names)\n",
        "\n",
        "# add the target\n",
        "boston['MEDV'] = boston_dataset.target\n",
        "\n",
        "boston.head()"
      ]
    },
    {
      "cell_type": "markdown",
      "metadata": {
        "id": "U0wutBinlYU1"
      },
      "source": [
        "Linear relationships can be assessed by scatter plots."
      ]
    },
    {
      "cell_type": "code",
      "source": [
        "# create a toy dataframe with an x variable that follows a normal distrubtion and shows a linear relationship with y variable \n",
        "\n",
        "# x is a variable with 200 observations that are normally distributed: \n",
        "\n",
        "np.random.seed()\n",
        "x = np.random.randn(200)\n",
        "print(x)"
      ],
      "metadata": {
        "colab": {
          "base_uri": "https://localhost:8080/"
        },
        "id": "8rkaTjFssESZ",
        "outputId": "ad319e82-d90f-405a-923f-f557a43ddeb5"
      },
      "execution_count": 7,
      "outputs": [
        {
          "output_type": "stream",
          "name": "stdout",
          "text": [
            "[-0.06172265 -0.42526557 -0.63941801 -0.67288581 -0.65883185  0.72602342\n",
            " -1.00349036 -0.04815444  0.67482878 -0.99440035 -0.46718443  1.54047897\n",
            "  0.06905295 -0.62834179  0.20973581 -2.21958507 -1.01076654  0.63231998\n",
            " -0.17844069 -0.91887449  0.40306081 -0.81820113  0.65413667 -0.05869072\n",
            "  0.88824282  0.22893822  0.06278179  0.34038619 -1.92529183 -1.60776656\n",
            " -0.69044147 -0.80436867  0.34151458  1.24980401  0.54447743  1.71142287\n",
            "  1.14814977  0.47775335 -0.15103775  1.08841238 -0.13327658 -0.43728507\n",
            " -0.9693323  -0.15351751  0.21137125 -0.68238703 -0.22673977  0.18089737\n",
            " -0.80228079 -0.67038672  1.56461232 -0.86527477 -0.8792232   0.13127215\n",
            "  2.5421186   1.03422944  2.27376491 -0.90249077 -1.33744097  0.12248712\n",
            "  0.68204443 -0.05022786  0.24834877  0.48222302  0.15154995 -0.30990658\n",
            "  1.64434571  1.28842342  0.1744668  -0.3354181   1.44681652 -1.16173594\n",
            "  1.09181606  2.43825709 -0.13214872 -0.84886876  1.2180707   0.4420969\n",
            "  0.16967184  1.10063349 -0.76612071 -1.07590635 -0.16479383 -0.70336153\n",
            "  1.43453975 -1.0668117  -1.23417256 -1.75495518 -0.69495552  1.62240054\n",
            "  1.53858716 -0.49685894  0.00971095  0.70134972  0.94839433  0.85667648\n",
            " -0.26674898 -0.38543641 -0.22500118 -1.33258979  0.79700248  0.34681757\n",
            " -0.07490947 -0.10155956  0.66933632  1.56146085  0.32117158 -0.97081203\n",
            "  0.35903064  0.94072598 -1.17258282 -0.0628038   0.20215619  0.81363255\n",
            "  0.13909378  0.96390324 -0.51327724 -0.06786615 -0.20222815 -1.90912463\n",
            " -0.36978094  1.74466879  0.37357384  0.82001013 -1.40499739 -0.39997371\n",
            "  1.69423413 -0.43927393 -0.96592947  1.1201232   0.89976573 -0.4292454\n",
            " -0.47368594 -0.03253006  0.40050934  1.13879356 -0.96370807  0.67198668\n",
            "  1.63344086  0.86092704  0.30238761  1.2032012   0.46340848 -0.28166623\n",
            "  0.64921706  1.11507289 -2.0055853  -0.6960783  -0.43617466  0.03980617\n",
            " -1.54276845  1.37668484 -0.84886504  0.11475883  1.29831483  0.37907836\n",
            " -0.21919282  0.54112272 -0.24941928 -2.37643696  1.05646266 -0.7693309\n",
            "  0.138539    0.87095053  0.25316111 -0.75189058 -0.12955817 -0.34406191\n",
            " -0.30075547  0.27128599 -0.45973942  1.77642554  0.43724457  0.01684643\n",
            " -0.25049701  0.96102432  1.27538276 -2.30339538  0.37510062  0.80940783\n",
            " -0.18585729  0.87144403  0.27509298  0.28940603  0.03451128  0.99644805\n",
            " -0.86359251 -0.90955832  0.85546565  1.28124991  0.99178887  1.0197027\n",
            " -0.78554232 -1.45960054 -0.10611592  0.5080108   1.68749746  0.19914602\n",
            " -0.02045011 -0.12943253]\n"
          ]
        }
      ]
    },
    {
      "cell_type": "code",
      "source": [
        "# let's create a y variable that is linearly related to x with some added random noise: \n",
        "\n",
        "y = x * 10 + np.random.randn(200) * 2"
      ],
      "metadata": {
        "id": "kCOfDRqCsWi4"
      },
      "execution_count": 9,
      "outputs": []
    },
    {
      "cell_type": "code",
      "source": [
        "y"
      ],
      "metadata": {
        "colab": {
          "base_uri": "https://localhost:8080/"
        },
        "id": "gLwcA-Wus1TG",
        "outputId": "c2705b20-00e7-4895-b736-40faf2e5617a"
      },
      "execution_count": 10,
      "outputs": [
        {
          "output_type": "execute_result",
          "data": {
            "text/plain": [
              "array([ -2.54649521,  -4.0347157 ,  -5.91592445,  -3.08570288,\n",
              "        -4.40887942,   5.9251131 ,  -9.91654056,  -3.49134919,\n",
              "         6.13818292,  -9.95955827,  -7.45385271,  17.10793417,\n",
              "         1.02055908,  -4.72384678,   2.58086881, -21.61364339,\n",
              "       -10.47807703,   5.75047646,  -1.01737698, -11.97257437,\n",
              "         2.64163525,  -6.83964868,   6.39395685,  -2.72741113,\n",
              "         9.72901856,   2.22072086,  -0.858833  ,   3.23515764,\n",
              "       -18.18709304, -15.99761102,  -7.09942417,  -9.71426093,\n",
              "         4.88112485,  12.73365353,   8.73726806,  16.5127242 ,\n",
              "         7.08580374,   6.23818665,  -1.40299064,  12.02718997,\n",
              "        -1.83263561,  -5.08338314,  -8.60807619,  -0.96298663,\n",
              "        -0.06348572,  -4.83344437,  -4.06521231,   1.37478614,\n",
              "        -6.73881289,  -7.07488322,  17.94534974,  -4.26743862,\n",
              "        -7.96870603,   3.75640194,  26.76726881,   9.27315616,\n",
              "        26.20752377,  -9.28174143, -13.21429197,   1.44026683,\n",
              "         5.49062013,  -0.25517298,   5.22054475,   8.129457  ,\n",
              "         1.60240196,  -2.51638257,  15.18005489,  15.50349443,\n",
              "         3.34260418,  -3.43597648,  14.43325913, -12.79097335,\n",
              "        11.19524333,  23.05474712,  -0.78852134,  -7.17679812,\n",
              "        11.3110198 ,   4.66287386,   1.19059765,  13.05995027,\n",
              "        -6.64374022, -11.51317596,  -3.39221985,  -4.86048596,\n",
              "        15.18858904, -13.45349099, -10.15615926, -13.72087436,\n",
              "        -6.32510161,  17.72454099,  17.57762971,  -5.76749675,\n",
              "        -2.87321549,   3.46967024,  10.88438592,   8.4297486 ,\n",
              "        -2.81556691,  -2.77946242,   0.20563574, -13.96058521,\n",
              "        11.2933249 ,   3.12668813,  -1.22133566,  -0.28275407,\n",
              "         6.82879693,  17.85952977,   6.97433312, -11.25465643,\n",
              "         2.61493073,   6.40786609, -13.86144005,   1.43871504,\n",
              "        -1.37260796,  10.20701319,   0.95628794,   9.76608282,\n",
              "        -5.82458265,  -1.76523819,  -1.53191648, -17.50310097,\n",
              "        -1.19357317,  16.52896126,   2.57346999,   9.93361509,\n",
              "       -13.17478316,  -1.50440898,  15.01907537,  -1.2006673 ,\n",
              "        -9.36314349,   9.18897425,   7.46950994,  -6.86009908,\n",
              "        -7.12041292,  -2.76516052,   2.03600852,  14.45897473,\n",
              "        -9.60259065,   9.20347255,  10.65769968,   8.72858372,\n",
              "         4.29431775,  11.6998317 ,   6.74610914,  -0.68550911,\n",
              "         6.0723922 ,   8.40298378, -20.55535118,  -7.2993402 ,\n",
              "        -5.78577707,  -1.1771142 , -17.0196883 ,  18.87117422,\n",
              "        -6.94702891,   1.89414917,  12.70343201,   1.50277871,\n",
              "        -6.81321271,   5.97930382,   1.47029307, -22.53032544,\n",
              "         8.94868574,  -6.70589496,   3.10908823,  10.82819013,\n",
              "         3.79701967,  -5.54036919,  -0.86416101,  -3.63961545,\n",
              "        -3.99851699,   1.92580001,  -1.96950756,  19.39509019,\n",
              "         1.12831881,   1.75061967,  -0.41122946,  10.23007094,\n",
              "        11.06385442, -23.15307309,   6.99153785,   7.51926261,\n",
              "        -2.4349781 ,  11.44146794,   0.42681836,   2.43908191,\n",
              "        -0.03961708,  12.39417332,  -8.9666511 ,  -9.67441588,\n",
              "         8.36885581,  14.45746342,   8.16854747,   9.27820374,\n",
              "       -12.88220466, -12.30984332,  -1.52331458,   2.81981998,\n",
              "        17.48091878,   3.69124595,   4.33608419,   0.78759172])"
            ]
          },
          "metadata": {},
          "execution_count": 10
        }
      ]
    },
    {
      "cell_type": "code",
      "source": [
        "# let's create our data from with the x and y variables: \n",
        "\n",
        "data = pd.DataFrame([x, y]).T\n",
        "data.columns = ['x', 'y']"
      ],
      "metadata": {
        "id": "k7yjWIvxs8Q2"
      },
      "execution_count": 12,
      "outputs": []
    },
    {
      "cell_type": "code",
      "source": [
        "data"
      ],
      "metadata": {
        "colab": {
          "base_uri": "https://localhost:8080/",
          "height": 424
        },
        "id": "xsR42WTL0swV",
        "outputId": "4fb158d2-a1d1-4932-ce6e-93af7ff9971f"
      },
      "execution_count": 13,
      "outputs": [
        {
          "output_type": "execute_result",
          "data": {
            "text/plain": [
              "            x          y\n",
              "0   -0.061723  -2.546495\n",
              "1   -0.425266  -4.034716\n",
              "2   -0.639418  -5.915924\n",
              "3   -0.672886  -3.085703\n",
              "4   -0.658832  -4.408879\n",
              "..        ...        ...\n",
              "195  0.508011   2.819820\n",
              "196  1.687497  17.480919\n",
              "197  0.199146   3.691246\n",
              "198 -0.020450   4.336084\n",
              "199 -0.129433   0.787592\n",
              "\n",
              "[200 rows x 2 columns]"
            ],
            "text/html": [
              "\n",
              "  <div id=\"df-595adb95-c2a6-4a82-9b15-166271b26a4a\">\n",
              "    <div class=\"colab-df-container\">\n",
              "      <div>\n",
              "<style scoped>\n",
              "    .dataframe tbody tr th:only-of-type {\n",
              "        vertical-align: middle;\n",
              "    }\n",
              "\n",
              "    .dataframe tbody tr th {\n",
              "        vertical-align: top;\n",
              "    }\n",
              "\n",
              "    .dataframe thead th {\n",
              "        text-align: right;\n",
              "    }\n",
              "</style>\n",
              "<table border=\"1\" class=\"dataframe\">\n",
              "  <thead>\n",
              "    <tr style=\"text-align: right;\">\n",
              "      <th></th>\n",
              "      <th>x</th>\n",
              "      <th>y</th>\n",
              "    </tr>\n",
              "  </thead>\n",
              "  <tbody>\n",
              "    <tr>\n",
              "      <th>0</th>\n",
              "      <td>-0.061723</td>\n",
              "      <td>-2.546495</td>\n",
              "    </tr>\n",
              "    <tr>\n",
              "      <th>1</th>\n",
              "      <td>-0.425266</td>\n",
              "      <td>-4.034716</td>\n",
              "    </tr>\n",
              "    <tr>\n",
              "      <th>2</th>\n",
              "      <td>-0.639418</td>\n",
              "      <td>-5.915924</td>\n",
              "    </tr>\n",
              "    <tr>\n",
              "      <th>3</th>\n",
              "      <td>-0.672886</td>\n",
              "      <td>-3.085703</td>\n",
              "    </tr>\n",
              "    <tr>\n",
              "      <th>4</th>\n",
              "      <td>-0.658832</td>\n",
              "      <td>-4.408879</td>\n",
              "    </tr>\n",
              "    <tr>\n",
              "      <th>...</th>\n",
              "      <td>...</td>\n",
              "      <td>...</td>\n",
              "    </tr>\n",
              "    <tr>\n",
              "      <th>195</th>\n",
              "      <td>0.508011</td>\n",
              "      <td>2.819820</td>\n",
              "    </tr>\n",
              "    <tr>\n",
              "      <th>196</th>\n",
              "      <td>1.687497</td>\n",
              "      <td>17.480919</td>\n",
              "    </tr>\n",
              "    <tr>\n",
              "      <th>197</th>\n",
              "      <td>0.199146</td>\n",
              "      <td>3.691246</td>\n",
              "    </tr>\n",
              "    <tr>\n",
              "      <th>198</th>\n",
              "      <td>-0.020450</td>\n",
              "      <td>4.336084</td>\n",
              "    </tr>\n",
              "    <tr>\n",
              "      <th>199</th>\n",
              "      <td>-0.129433</td>\n",
              "      <td>0.787592</td>\n",
              "    </tr>\n",
              "  </tbody>\n",
              "</table>\n",
              "<p>200 rows × 2 columns</p>\n",
              "</div>\n",
              "      <button class=\"colab-df-convert\" onclick=\"convertToInteractive('df-595adb95-c2a6-4a82-9b15-166271b26a4a')\"\n",
              "              title=\"Convert this dataframe to an interactive table.\"\n",
              "              style=\"display:none;\">\n",
              "        \n",
              "  <svg xmlns=\"http://www.w3.org/2000/svg\" height=\"24px\"viewBox=\"0 0 24 24\"\n",
              "       width=\"24px\">\n",
              "    <path d=\"M0 0h24v24H0V0z\" fill=\"none\"/>\n",
              "    <path d=\"M18.56 5.44l.94 2.06.94-2.06 2.06-.94-2.06-.94-.94-2.06-.94 2.06-2.06.94zm-11 1L8.5 8.5l.94-2.06 2.06-.94-2.06-.94L8.5 2.5l-.94 2.06-2.06.94zm10 10l.94 2.06.94-2.06 2.06-.94-2.06-.94-.94-2.06-.94 2.06-2.06.94z\"/><path d=\"M17.41 7.96l-1.37-1.37c-.4-.4-.92-.59-1.43-.59-.52 0-1.04.2-1.43.59L10.3 9.45l-7.72 7.72c-.78.78-.78 2.05 0 2.83L4 21.41c.39.39.9.59 1.41.59.51 0 1.02-.2 1.41-.59l7.78-7.78 2.81-2.81c.8-.78.8-2.07 0-2.86zM5.41 20L4 18.59l7.72-7.72 1.47 1.35L5.41 20z\"/>\n",
              "  </svg>\n",
              "      </button>\n",
              "      \n",
              "  <style>\n",
              "    .colab-df-container {\n",
              "      display:flex;\n",
              "      flex-wrap:wrap;\n",
              "      gap: 12px;\n",
              "    }\n",
              "\n",
              "    .colab-df-convert {\n",
              "      background-color: #E8F0FE;\n",
              "      border: none;\n",
              "      border-radius: 50%;\n",
              "      cursor: pointer;\n",
              "      display: none;\n",
              "      fill: #1967D2;\n",
              "      height: 32px;\n",
              "      padding: 0 0 0 0;\n",
              "      width: 32px;\n",
              "    }\n",
              "\n",
              "    .colab-df-convert:hover {\n",
              "      background-color: #E2EBFA;\n",
              "      box-shadow: 0px 1px 2px rgba(60, 64, 67, 0.3), 0px 1px 3px 1px rgba(60, 64, 67, 0.15);\n",
              "      fill: #174EA6;\n",
              "    }\n",
              "\n",
              "    [theme=dark] .colab-df-convert {\n",
              "      background-color: #3B4455;\n",
              "      fill: #D2E3FC;\n",
              "    }\n",
              "\n",
              "    [theme=dark] .colab-df-convert:hover {\n",
              "      background-color: #434B5C;\n",
              "      box-shadow: 0px 1px 3px 1px rgba(0, 0, 0, 0.15);\n",
              "      filter: drop-shadow(0px 1px 2px rgba(0, 0, 0, 0.3));\n",
              "      fill: #FFFFFF;\n",
              "    }\n",
              "  </style>\n",
              "\n",
              "      <script>\n",
              "        const buttonEl =\n",
              "          document.querySelector('#df-595adb95-c2a6-4a82-9b15-166271b26a4a button.colab-df-convert');\n",
              "        buttonEl.style.display =\n",
              "          google.colab.kernel.accessAllowed ? 'block' : 'none';\n",
              "\n",
              "        async function convertToInteractive(key) {\n",
              "          const element = document.querySelector('#df-595adb95-c2a6-4a82-9b15-166271b26a4a');\n",
              "          const dataTable =\n",
              "            await google.colab.kernel.invokeFunction('convertToInteractive',\n",
              "                                                     [key], {});\n",
              "          if (!dataTable) return;\n",
              "\n",
              "          const docLinkHtml = 'Like what you see? Visit the ' +\n",
              "            '<a target=\"_blank\" href=https://colab.research.google.com/notebooks/data_table.ipynb>data table notebook</a>'\n",
              "            + ' to learn more about interactive tables.';\n",
              "          element.innerHTML = '';\n",
              "          dataTable['output_type'] = 'display_data';\n",
              "          await google.colab.output.renderOutput(dataTable, element);\n",
              "          const docLink = document.createElement('div');\n",
              "          docLink.innerHTML = docLinkHtml;\n",
              "          element.appendChild(docLink);\n",
              "        }\n",
              "      </script>\n",
              "    </div>\n",
              "  </div>\n",
              "  "
            ]
          },
          "metadata": {},
          "execution_count": 13
        }
      ]
    },
    {
      "cell_type": "code",
      "source": [
        "# let's visualize the linear relationships using a scatter plot \n",
        "\n",
        "sns.lmplot(x = \"x\", y = \"y\", data = data, order=1)\n",
        "plt.ylabel('Target')\n",
        "plt.xlabel('Independent Variable')"
      ],
      "metadata": {
        "colab": {
          "base_uri": "https://localhost:8080/",
          "height": 386
        },
        "id": "jzOpB5ZF0tWI",
        "outputId": "7bcd3de1-b089-4d09-9b88-c596b827f3ed"
      },
      "execution_count": 15,
      "outputs": [
        {
          "output_type": "execute_result",
          "data": {
            "text/plain": [
              "Text(0.5, 20.80000000000002, 'Independent Variable')"
            ]
          },
          "metadata": {},
          "execution_count": 15
        },
        {
          "output_type": "display_data",
          "data": {
            "text/plain": [
              "<Figure size 360x360 with 1 Axes>"
            ],
            "image/png": "[encoded data removed]"
          },
          "metadata": {
            "needs_background": "light"
          }
        }
      ]
    },
    {
      "cell_type": "code",
      "source": [
        "# to evaluate the linear relationship using residual plats, we need to first build a linear regression model between x and y:\n",
        "\n",
        "linreg = LinearRegression()\n",
        "linreg.fit(data['x'].to_frame(), data['y'])"
      ],
      "metadata": {
        "colab": {
          "base_uri": "https://localhost:8080/"
        },
        "id": "EPoQVEjb1IMQ",
        "outputId": "04488e8f-4c77-40a0-d031-2db179d86fba"
      },
      "execution_count": 16,
      "outputs": [
        {
          "output_type": "execute_result",
          "data": {
            "text/plain": [
              "LinearRegression()"
            ]
          },
          "metadata": {},
          "execution_count": 16
        }
      ]
    },
    {
      "cell_type": "code",
      "source": [
        "# let's make predictions of y using the fitted linear model: \n",
        "\n",
        "predictions = linreg.predict(data['x'].to_frame())\n",
        "\n",
        "# find the difference between the predictions and the real outcome, y, that's the residuals \n",
        "\n",
        "\n",
        "residuals = data['y'] - predictions "
      ],
      "metadata": {
        "id": "nhMKKAbm1ud0"
      },
      "execution_count": 17,
      "outputs": []
    },
    {
      "cell_type": "code",
      "source": [
        "# Let's make a scatter plot of the indepedent variable x and the residuals: \n",
        "\n",
        "plt.scatter (y=residuals, x = data['x'])\n",
        "plt.ylabel('Residuals')\n",
        "plt.xlabel('Independent variable x')"
      ],
      "metadata": {
        "colab": {
          "base_uri": "https://localhost:8080/",
          "height": 296
        },
        "id": "0mai46sI2qNh",
        "outputId": "2e035099-aec8-4e19-d93c-eba559206815"
      },
      "execution_count": 18,
      "outputs": [
        {
          "output_type": "execute_result",
          "data": {
            "text/plain": [
              "Text(0.5, 0, 'Independent variable x')"
            ]
          },
          "metadata": {},
          "execution_count": 18
        },
        {
          "output_type": "display_data",
          "data": {
            "text/plain": [
              "<Figure size 432x288 with 1 Axes>"
            ],
            "image/png": "[encoded data removed]"
          },
          "metadata": {
            "needs_background": "light"
          }
        }
      ]
    },
    {
      "cell_type": "code",
      "source": [
        "#let's evaualte the distribution of the residuals: \n",
        "\n",
        "sns.displot(residuals, bins = 30)\n",
        "plt.xlabel('Residuals')"
      ],
      "metadata": {
        "colab": {
          "base_uri": "https://localhost:8080/",
          "height": 386
        },
        "id": "5DJAOIV83EFY",
        "outputId": "ddae618e-d0ea-4253-f264-4ac24888836a"
      },
      "execution_count": 19,
      "outputs": [
        {
          "output_type": "execute_result",
          "data": {
            "text/plain": [
              "Text(0.5, 6.79999999999999, 'Residuals')"
            ]
          },
          "metadata": {},
          "execution_count": 19
        },
        {
          "output_type": "display_data",
          "data": {
            "text/plain": [
              "<Figure size 360x360 with 1 Axes>"
            ],
            "image/png": "[encoded data removed]"
          },
          "metadata": {
            "needs_background": "light"
          }
        }
      ]
    }
  ],
  "metadata": {
    "kernelspec": {
      "display_name": "feml",
      "language": "python",
      "name": "feml"
    },
    "language_info": {
      "codemirror_mode": {
        "name": "ipython",
        "version": 3
      },
      "file_extension": ".py",
      "mimetype": "text/x-python",
      "name": "python",
      "nbconvert_exporter": "python",
      "pygments_lexer": "ipython3",
      "version": "3.7.3"
    },
    "toc": {
      "base_numbering": 1,
      "nav_menu": {},
      "number_sections": true,
      "sideBar": true,
      "skip_h1_title": false,
      "title_cell": "Table of Contents",
      "title_sidebar": "Contents",
      "toc_cell": false,
      "toc_position": {},
      "toc_section_display": true,
      "toc_window_display": false
    },
    "colab": {
      "name": "Identifying-a-linear-relationship.ipynb",
      "provenance": [],
      "include_colab_link": true
    }
  },
  "nbformat": 4,
  "nbformat_minor": 0
}