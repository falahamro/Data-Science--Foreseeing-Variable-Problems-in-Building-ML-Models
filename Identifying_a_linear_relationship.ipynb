{
  "cells": [
    {
      "cell_type": "markdown",
      "metadata": {
        "id": "view-in-github",
        "colab_type": "text"
      },
      "source": [
        "<a href=\"https://colab.research.google.com/github/falahamro/Data-Science--Foreseeing-Variable-Problems-in-Building-ML-Models/blob/main/Identifying_a_linear_relationship.ipynb\" target=\"_parent\"><img src=\"https://colab.research.google.com/assets/colab-badge.svg\" alt=\"Open In Colab\"/></a>"
      ]
    },
    {
      "cell_type": "markdown",
      "metadata": {
        "id": "tFRKPcOUlYUx"
      },
      "source": [
        "Linear models assume that the dependent variables X take a linear relationship with the dependent variable Y. If the assumption is not met, the model may show poor performance. In this recipe, we will learn how to visualize the linear relationships between X and Y."
      ]
    },
    {
      "cell_type": "code",
      "execution_count": 1,
      "metadata": {
        "id": "SysIt9_xlYUz"
      },
      "outputs": [],
      "source": [
        "import pandas as pd\n",
        "import numpy as np\n",
        "\n",
        "# for plotting\n",
        "import matplotlib.pyplot as plt\n",
        "import seaborn as sns\n",
        "\n",
        "\n",
        "# for linear regression\n",
        "from sklearn.linear_model import LinearRegression"
      ]
    },
    {
      "cell_type": "markdown",
      "metadata": {
        "id": "U0wutBinlYU1"
      },
      "source": [
        "Linear relationships can be assessed by scatter plots."
      ]
    },
    {
      "cell_type": "code",
      "source": [
        "# create a toy dataframe with an x variable that follows a normal distrubtion and shows a linear relationship with y variable \n",
        "\n",
        "# x is a variable with 200 observations that are normally distributed: \n",
        "\n",
        "np.random.seed()\n",
        "x = np.random.randn(200)\n",
        "print(x)"
      ],
      "metadata": {
        "colab": {
          "base_uri": "https://localhost:8080/"
        },
        "id": "8rkaTjFssESZ",
        "outputId": "fc97dd4a-11e2-4814-e86b-81cb56d9b599"
      },
      "execution_count": 2,
      "outputs": [
        {
          "output_type": "stream",
          "name": "stdout",
          "text": [
            "[-1.11155615e+00 -9.81976954e-02  9.41183750e-01 -4.07979324e-01\n",
            "  1.82338646e+00  3.62211389e-01 -6.97264321e-03 -1.19826083e-01\n",
            "  1.95158313e+00 -9.01952983e-01  6.31202447e-01 -2.05771804e-01\n",
            " -7.88158032e-01 -1.77952777e+00 -4.25919144e-01  1.45006625e+00\n",
            "  5.33174344e-01  2.99491325e-01 -1.48692147e+00  9.68558827e-01\n",
            "  1.02155415e+00  1.05313336e+00 -7.17094275e-01 -2.02842174e-01\n",
            "  1.50680685e+00 -9.23808509e-02  6.38870973e-01  1.33142479e+00\n",
            " -1.39519226e+00  4.02249477e-01  2.35503815e+00  2.23000151e-01\n",
            " -5.94616519e-01 -1.61544272e-01  1.22321371e+00 -7.54661118e-02\n",
            "  9.45274855e-01  9.69931813e-01 -5.27814477e-02 -8.68479505e-01\n",
            "  1.46474631e+00  1.46938275e-01  1.06196904e+00  1.14046508e+00\n",
            "  8.68983540e-01 -1.80003146e+00 -6.13613627e-01 -2.95949727e-01\n",
            " -1.85622936e+00 -1.16920056e+00 -4.20513452e-01 -4.85783041e-01\n",
            " -6.61374001e-01  1.22684177e-01  4.86951421e-01  3.02319616e-02\n",
            " -5.10875339e-01  2.74524766e-01  2.25296204e+00  1.20872706e+00\n",
            "  1.18624995e+00  4.25327588e-01 -4.42636718e-01 -9.04824470e-01\n",
            "  1.54438442e+00 -6.51273092e-01  1.80778524e+00  1.48982277e+00\n",
            " -9.65289855e-01  6.23171940e-01 -1.32742550e-01 -2.02030550e+00\n",
            " -3.86430404e-01 -1.07605133e+00 -2.05708418e+00  6.82842743e-01\n",
            "  1.42401092e-01  1.99480413e-01 -4.13331084e-01  8.33780737e-01\n",
            " -2.90661790e-02  6.49243067e-01  1.10546569e+00  9.35246748e-01\n",
            "  1.41584310e+00 -8.75681453e-02  8.96291535e-01  1.40623322e+00\n",
            " -3.95775428e-01  1.02865819e+00  3.31116120e-03 -2.33180357e+00\n",
            "  1.29764623e+00  1.03538838e+00 -8.01390718e-01  7.32681795e-01\n",
            "  2.25420133e-01 -6.01915452e-01  6.89673650e-01 -1.49567800e-01\n",
            "  9.67165653e-01 -1.20926787e-01 -8.50094532e-01 -1.69726397e+00\n",
            " -6.04901573e-01  6.60565280e-01  6.63478647e-01  4.59984861e-01\n",
            " -4.25967816e-01  1.00964789e+00 -2.15128142e-01 -2.14636955e-01\n",
            " -6.25114006e-01 -3.08756467e-02 -5.27427612e-01  1.51916694e-01\n",
            "  5.93962122e-01  8.58559345e-01 -3.38417521e-02  1.68876670e+00\n",
            "  6.89511428e-01  1.63434460e+00 -1.73121498e-01 -3.31092992e-01\n",
            "  1.13281289e+00  1.00787400e+00 -2.82432999e-01  1.24870247e-01\n",
            " -8.98457550e-01  5.25799692e-01  3.08446420e-01  1.06264466e+00\n",
            " -1.97182925e-01  4.00695942e-01  7.08425129e-01  5.83559957e-01\n",
            "  9.73511342e-03  5.72310748e-02 -1.17489011e+00  1.21897100e+00\n",
            "  2.19350307e-01  1.67622549e+00  8.32283025e-01  3.65140654e-01\n",
            " -3.82834459e-01  4.54634208e-01 -4.37031820e-01  1.58580215e-01\n",
            " -1.97576360e-01 -5.97594336e-01 -9.49499287e-01  9.49691762e-01\n",
            "  1.70958023e-01 -2.37496913e-01 -1.00481282e+00  6.23480507e-01\n",
            " -1.46861712e+00 -1.26559589e+00 -1.76723267e+00 -1.12964359e+00\n",
            "  2.44680269e-01 -1.52368392e-02  2.53990041e-01 -1.33301389e+00\n",
            "  4.92502711e-01 -1.12044139e+00 -1.92433482e+00  2.27176879e-01\n",
            "  3.77972490e-01 -7.52049579e-01  7.66264159e-01  6.20345087e-02\n",
            " -1.20110123e+00  1.53326803e+00 -1.24391767e-03  4.03609400e-01\n",
            " -1.23739546e-01 -1.05498913e+00 -1.35299788e-01  3.99418365e-01\n",
            "  6.23509087e-01 -1.00069923e+00  4.60504974e-01 -3.61916016e-01\n",
            " -1.12914911e+00 -1.37712094e-01 -7.21966146e-03 -4.35622841e-04\n",
            " -1.35317706e+00 -1.17562894e+00  1.50220323e+00  1.38681184e-01\n",
            " -8.31614310e-01 -1.36345106e+00 -8.13833903e-01 -8.03756184e-01\n",
            "  6.08012964e-01 -8.51191794e-01  3.89041635e-01  7.28460437e-01]\n"
          ]
        }
      ]
    },
    {
      "cell_type": "code",
      "source": [
        "# let's create a y variable that is linearly related to x with some added random noise: \n",
        "\n",
        "y = x * 10 + np.random.randn(200) * 2"
      ],
      "metadata": {
        "id": "kCOfDRqCsWi4"
      },
      "execution_count": 3,
      "outputs": []
    },
    {
      "cell_type": "code",
      "source": [
        "y"
      ],
      "metadata": {
        "colab": {
          "base_uri": "https://localhost:8080/"
        },
        "id": "gLwcA-Wus1TG",
        "outputId": "a67828ec-3cff-417e-bdc5-a186c4305da7"
      },
      "execution_count": 4,
      "outputs": [
        {
          "output_type": "execute_result",
          "data": {
            "text/plain": [
              "array([-1.19272189e+01,  1.03355665e+00,  6.29929734e+00, -4.81576843e+00,\n",
              "        1.94760310e+01,  2.62118750e+00, -2.98077476e+00, -2.66119213e+00,\n",
              "        1.94671738e+01, -8.69436910e+00,  3.68235358e+00, -2.50610714e+00,\n",
              "       -6.14386857e+00, -1.85151204e+01, -2.56212562e+00,  1.19610941e+01,\n",
              "        4.97402141e+00,  2.95751084e+00, -1.31251869e+01,  9.57852910e+00,\n",
              "        1.14245607e+01,  1.16798651e+01, -4.27512606e+00, -2.82681399e+00,\n",
              "        1.66915319e+01, -2.59404027e+00,  5.18656152e+00,  9.94963246e+00,\n",
              "       -1.62968456e+01,  4.60054022e+00,  2.47724839e+01,  5.16495560e+00,\n",
              "       -9.26025604e+00, -1.16637235e+00,  1.34200858e+01, -1.33724414e+00,\n",
              "        1.07373134e+01,  8.97067639e+00, -8.10736288e-01, -1.10046129e+01,\n",
              "        1.59761428e+01, -2.30086116e+00,  1.32791046e+01,  1.24156158e+01,\n",
              "        1.03706770e+01, -1.81320063e+01, -4.01047344e+00, -8.81263691e-01,\n",
              "       -1.92403237e+01, -1.05732012e+01, -6.49251647e+00, -5.31860535e+00,\n",
              "       -2.78431417e+00,  3.39225168e+00,  8.45177343e+00, -1.77216230e-01,\n",
              "       -6.16667014e+00,  3.38910775e+00,  2.19860963e+01,  1.14233494e+01,\n",
              "        1.02510387e+01,  7.79924400e+00, -1.79026649e+00, -6.34487932e+00,\n",
              "        1.18515601e+01, -6.96206848e+00,  1.95417113e+01,  1.57194696e+01,\n",
              "       -1.06246406e+01,  7.33652037e+00,  1.16464502e+00, -1.91031010e+01,\n",
              "       -5.19739963e+00, -1.19080871e+01, -2.15310791e+01,  7.39311264e+00,\n",
              "        1.37300855e+00,  9.73853428e-01, -4.45132765e+00,  9.64091517e+00,\n",
              "       -2.77468920e+00,  8.40197237e+00,  1.25401854e+01,  9.35053897e+00,\n",
              "        1.27487436e+01, -4.34078939e+00,  6.38329658e+00,  1.58003940e+01,\n",
              "       -4.96507121e+00,  1.10155539e+01,  2.64230609e-01, -2.25573369e+01,\n",
              "        1.40857743e+01,  1.04217230e+01, -6.48145806e+00,  9.71184045e+00,\n",
              "        3.50271391e+00, -6.54362847e+00,  5.61306111e+00, -2.50238851e+00,\n",
              "        1.10839565e+01, -5.33932161e+00, -6.86450651e+00, -1.61056512e+01,\n",
              "       -5.86632283e+00,  9.46961882e+00,  4.76682838e+00,  1.25151312e+00,\n",
              "       -5.84261784e+00,  1.08029176e+01, -3.65150525e+00, -1.16964237e+00,\n",
              "       -3.13487377e+00, -2.17240735e+00, -4.73910270e+00,  3.96963990e+00,\n",
              "        5.58343632e+00,  5.18858907e+00, -2.26554896e+00,  1.71175481e+01,\n",
              "        5.64800345e+00,  1.55681118e+01,  3.50606092e+00, -3.90365907e+00,\n",
              "        9.21503385e+00,  8.18369305e+00, -3.49521499e+00,  3.18109072e+00,\n",
              "       -6.64958915e+00,  5.73973867e+00,  2.19370734e+00,  1.35344312e+01,\n",
              "       -1.84486331e+00,  5.20261185e+00,  5.88169203e+00,  5.41751106e+00,\n",
              "        1.91826606e+00,  3.27125454e+00, -1.36978062e+01,  1.26762421e+01,\n",
              "        1.10030433e+00,  1.66717578e+01,  3.48705320e+00,  4.33948268e+00,\n",
              "       -9.05448536e-01,  5.38064552e+00, -5.82650546e+00,  1.35039261e+00,\n",
              "       -6.94235536e+00, -5.49354121e+00, -5.50882038e+00,  1.00822774e+01,\n",
              "        3.96908599e+00, -3.43339728e+00, -7.24643364e+00,  7.06609738e+00,\n",
              "       -1.31398347e+01, -1.05831368e+01, -2.09146916e+01, -1.00961619e+01,\n",
              "        1.19404961e+00, -4.56060905e+00,  6.66749600e+00, -1.88055578e+01,\n",
              "        5.06613740e+00, -1.37366468e+01, -1.60439956e+01,  9.48549673e-01,\n",
              "        4.39640113e+00, -5.82074905e+00,  4.78045892e+00,  2.05998548e+00,\n",
              "       -1.24324414e+01,  1.36576093e+01,  1.31874860e+00,  4.47468265e+00,\n",
              "       -3.61423024e-01, -1.07427861e+01, -1.23900220e+00,  3.46703693e+00,\n",
              "        6.32896417e+00, -1.19541299e+01,  5.50506921e+00, -5.67717860e+00,\n",
              "       -1.31990207e+01, -1.05739230e+00,  4.05974030e-03, -4.83809181e-01,\n",
              "       -1.45196000e+01, -1.06765111e+01,  1.35668810e+01, -8.54471100e-01,\n",
              "       -5.75493160e+00, -1.35410808e+01, -8.95764971e+00, -8.57510452e+00,\n",
              "        4.13601712e+00, -9.02737763e+00,  3.23954989e+00,  6.56215154e+00])"
            ]
          },
          "metadata": {},
          "execution_count": 4
        }
      ]
    },
    {
      "cell_type": "code",
      "source": [
        "# let's create our data from with the x and y variables: \n",
        "\n",
        "data = pd.DataFrame([x, y]).T\n",
        "data.columns = ['x', 'y']"
      ],
      "metadata": {
        "id": "k7yjWIvxs8Q2"
      },
      "execution_count": 5,
      "outputs": []
    },
    {
      "cell_type": "code",
      "source": [
        "data"
      ],
      "metadata": {
        "colab": {
          "base_uri": "https://localhost:8080/",
          "height": 424
        },
        "id": "xsR42WTL0swV",
        "outputId": "5824bb4a-44cc-49b4-8d5f-6cda954f32e3"
      },
      "execution_count": 6,
      "outputs": [
        {
          "output_type": "execute_result",
          "data": {
            "text/plain": [
              "            x          y\n",
              "0   -1.111556 -11.927219\n",
              "1   -0.098198   1.033557\n",
              "2    0.941184   6.299297\n",
              "3   -0.407979  -4.815768\n",
              "4    1.823386  19.476031\n",
              "..        ...        ...\n",
              "195 -0.803756  -8.575105\n",
              "196  0.608013   4.136017\n",
              "197 -0.851192  -9.027378\n",
              "198  0.389042   3.239550\n",
              "199  0.728460   6.562152\n",
              "\n",
              "[200 rows x 2 columns]"
            ],
            "text/html": [
              "\n",
              "  <div id=\"df-a7d6d9aa-30aa-45c8-8bba-7d49783d98b1\">\n",
              "    <div class=\"colab-df-container\">\n",
              "      <div>\n",
              "<style scoped>\n",
              "    .dataframe tbody tr th:only-of-type {\n",
              "        vertical-align: middle;\n",
              "    }\n",
              "\n",
              "    .dataframe tbody tr th {\n",
              "        vertical-align: top;\n",
              "    }\n",
              "\n",
              "    .dataframe thead th {\n",
              "        text-align: right;\n",
              "    }\n",
              "</style>\n",
              "<table border=\"1\" class=\"dataframe\">\n",
              "  <thead>\n",
              "    <tr style=\"text-align: right;\">\n",
              "      <th></th>\n",
              "      <th>x</th>\n",
              "      <th>y</th>\n",
              "    </tr>\n",
              "  </thead>\n",
              "  <tbody>\n",
              "    <tr>\n",
              "      <th>0</th>\n",
              "      <td>-1.111556</td>\n",
              "      <td>-11.927219</td>\n",
              "    </tr>\n",
              "    <tr>\n",
              "      <th>1</th>\n",
              "      <td>-0.098198</td>\n",
              "      <td>1.033557</td>\n",
              "    </tr>\n",
              "    <tr>\n",
              "      <th>2</th>\n",
              "      <td>0.941184</td>\n",
              "      <td>6.299297</td>\n",
              "    </tr>\n",
              "    <tr>\n",
              "      <th>3</th>\n",
              "      <td>-0.407979</td>\n",
              "      <td>-4.815768</td>\n",
              "    </tr>\n",
              "    <tr>\n",
              "      <th>4</th>\n",
              "      <td>1.823386</td>\n",
              "      <td>19.476031</td>\n",
              "    </tr>\n",
              "    <tr>\n",
              "      <th>...</th>\n",
              "      <td>...</td>\n",
              "      <td>...</td>\n",
              "    </tr>\n",
              "    <tr>\n",
              "      <th>195</th>\n",
              "      <td>-0.803756</td>\n",
              "      <td>-8.575105</td>\n",
              "    </tr>\n",
              "    <tr>\n",
              "      <th>196</th>\n",
              "      <td>0.608013</td>\n",
              "      <td>4.136017</td>\n",
              "    </tr>\n",
              "    <tr>\n",
              "      <th>197</th>\n",
              "      <td>-0.851192</td>\n",
              "      <td>-9.027378</td>\n",
              "    </tr>\n",
              "    <tr>\n",
              "      <th>198</th>\n",
              "      <td>0.389042</td>\n",
              "      <td>3.239550</td>\n",
              "    </tr>\n",
              "    <tr>\n",
              "      <th>199</th>\n",
              "      <td>0.728460</td>\n",
              "      <td>6.562152</td>\n",
              "    </tr>\n",
              "  </tbody>\n",
              "</table>\n",
              "<p>200 rows × 2 columns</p>\n",
              "</div>\n",
              "      <button class=\"colab-df-convert\" onclick=\"convertToInteractive('df-a7d6d9aa-30aa-45c8-8bba-7d49783d98b1')\"\n",
              "              title=\"Convert this dataframe to an interactive table.\"\n",
              "              style=\"display:none;\">\n",
              "        \n",
              "  <svg xmlns=\"http://www.w3.org/2000/svg\" height=\"24px\"viewBox=\"0 0 24 24\"\n",
              "       width=\"24px\">\n",
              "    <path d=\"M0 0h24v24H0V0z\" fill=\"none\"/>\n",
              "    <path d=\"M18.56 5.44l.94 2.06.94-2.06 2.06-.94-2.06-.94-.94-2.06-.94 2.06-2.06.94zm-11 1L8.5 8.5l.94-2.06 2.06-.94-2.06-.94L8.5 2.5l-.94 2.06-2.06.94zm10 10l.94 2.06.94-2.06 2.06-.94-2.06-.94-.94-2.06-.94 2.06-2.06.94z\"/><path d=\"M17.41 7.96l-1.37-1.37c-.4-.4-.92-.59-1.43-.59-.52 0-1.04.2-1.43.59L10.3 9.45l-7.72 7.72c-.78.78-.78 2.05 0 2.83L4 21.41c.39.39.9.59 1.41.59.51 0 1.02-.2 1.41-.59l7.78-7.78 2.81-2.81c.8-.78.8-2.07 0-2.86zM5.41 20L4 18.59l7.72-7.72 1.47 1.35L5.41 20z\"/>\n",
              "  </svg>\n",
              "      </button>\n",
              "      \n",
              "  <style>\n",
              "    .colab-df-container {\n",
              "      display:flex;\n",
              "      flex-wrap:wrap;\n",
              "      gap: 12px;\n",
              "    }\n",
              "\n",
              "    .colab-df-convert {\n",
              "      background-color: #E8F0FE;\n",
              "      border: none;\n",
              "      border-radius: 50%;\n",
              "      cursor: pointer;\n",
              "      display: none;\n",
              "      fill: #1967D2;\n",
              "      height: 32px;\n",
              "      padding: 0 0 0 0;\n",
              "      width: 32px;\n",
              "    }\n",
              "\n",
              "    .colab-df-convert:hover {\n",
              "      background-color: #E2EBFA;\n",
              "      box-shadow: 0px 1px 2px rgba(60, 64, 67, 0.3), 0px 1px 3px 1px rgba(60, 64, 67, 0.15);\n",
              "      fill: #174EA6;\n",
              "    }\n",
              "\n",
              "    [theme=dark] .colab-df-convert {\n",
              "      background-color: #3B4455;\n",
              "      fill: #D2E3FC;\n",
              "    }\n",
              "\n",
              "    [theme=dark] .colab-df-convert:hover {\n",
              "      background-color: #434B5C;\n",
              "      box-shadow: 0px 1px 3px 1px rgba(0, 0, 0, 0.15);\n",
              "      filter: drop-shadow(0px 1px 2px rgba(0, 0, 0, 0.3));\n",
              "      fill: #FFFFFF;\n",
              "    }\n",
              "  </style>\n",
              "\n",
              "      <script>\n",
              "        const buttonEl =\n",
              "          document.querySelector('#df-a7d6d9aa-30aa-45c8-8bba-7d49783d98b1 button.colab-df-convert');\n",
              "        buttonEl.style.display =\n",
              "          google.colab.kernel.accessAllowed ? 'block' : 'none';\n",
              "\n",
              "        async function convertToInteractive(key) {\n",
              "          const element = document.querySelector('#df-a7d6d9aa-30aa-45c8-8bba-7d49783d98b1');\n",
              "          const dataTable =\n",
              "            await google.colab.kernel.invokeFunction('convertToInteractive',\n",
              "                                                     [key], {});\n",
              "          if (!dataTable) return;\n",
              "\n",
              "          const docLinkHtml = 'Like what you see? Visit the ' +\n",
              "            '<a target=\"_blank\" href=https://colab.research.google.com/notebooks/data_table.ipynb>data table notebook</a>'\n",
              "            + ' to learn more about interactive tables.';\n",
              "          element.innerHTML = '';\n",
              "          dataTable['output_type'] = 'display_data';\n",
              "          await google.colab.output.renderOutput(dataTable, element);\n",
              "          const docLink = document.createElement('div');\n",
              "          docLink.innerHTML = docLinkHtml;\n",
              "          element.appendChild(docLink);\n",
              "        }\n",
              "      </script>\n",
              "    </div>\n",
              "  </div>\n",
              "  "
            ]
          },
          "metadata": {},
          "execution_count": 6
        }
      ]
    },
    {
      "cell_type": "code",
      "source": [
        "# let's visualize the linear relationships using a scatter plot \n",
        "\n",
        "sns.lmplot(x = \"x\", y = \"y\", data = data, order=1)\n",
        "plt.ylabel('Target')\n",
        "plt.xlabel('Independent Variable')"
      ],
      "metadata": {
        "colab": {
          "base_uri": "https://localhost:8080/",
          "height": 386
        },
        "id": "jzOpB5ZF0tWI",
        "outputId": "eb94d93b-8626-49e1-ebc4-842e255738f3"
      },
      "execution_count": 7,
      "outputs": [
        {
          "output_type": "execute_result",
          "data": {
            "text/plain": [
              "Text(0.5, 20.80000000000002, 'Independent Variable')"
            ]
          },
          "metadata": {},
          "execution_count": 7
        },
        {
          "output_type": "display_data",
          "data": {
            "text/plain": [
              "<Figure size 360x360 with 1 Axes>"
            ],
            "image/png": "[encoded data removed]"
          },
          "metadata": {
            "needs_background": "light"
          }
        }
      ]
    },
    {
      "cell_type": "code",
      "source": [
        "# to evaluate the linear relationship using residual plats, we need to first build a linear regression model between x and y:\n",
        "\n",
        "linreg = LinearRegression()\n",
        "linreg.fit(data['x'].to_frame(), data['y'])"
      ],
      "metadata": {
        "colab": {
          "base_uri": "https://localhost:8080/"
        },
        "id": "EPoQVEjb1IMQ",
        "outputId": "db9b62d1-0efb-4666-c30b-1d74e08e202c"
      },
      "execution_count": 8,
      "outputs": [
        {
          "output_type": "execute_result",
          "data": {
            "text/plain": [
              "LinearRegression()"
            ]
          },
          "metadata": {},
          "execution_count": 8
        }
      ]
    },
    {
      "cell_type": "code",
      "source": [
        "# let's make predictions of y using the fitted linear model: \n",
        "\n",
        "predictions = linreg.predict(data['x'].to_frame())\n",
        "\n",
        "# find the difference between the predictions and the real outcome, y, that's the residuals \n",
        "\n",
        "\n",
        "residuals = data['y'] - predictions "
      ],
      "metadata": {
        "id": "nhMKKAbm1ud0"
      },
      "execution_count": 9,
      "outputs": []
    },
    {
      "cell_type": "code",
      "source": [
        "# Let's make a scatter plot of the indepedent variable x and the residuals: \n",
        "\n",
        "plt.scatter (y=residuals, x = data['x'])\n",
        "plt.ylabel('Residuals')\n",
        "plt.xlabel('Independent variable x')"
      ],
      "metadata": {
        "colab": {
          "base_uri": "https://localhost:8080/",
          "height": 296
        },
        "id": "0mai46sI2qNh",
        "outputId": "bee896dd-51d2-4760-ceec-953a3db9d7aa"
      },
      "execution_count": 10,
      "outputs": [
        {
          "output_type": "execute_result",
          "data": {
            "text/plain": [
              "Text(0.5, 0, 'Independent variable x')"
            ]
          },
          "metadata": {},
          "execution_count": 10
        },
        {
          "output_type": "display_data",
          "data": {
            "text/plain": [
              "<Figure size 432x288 with 1 Axes>"
            ],
            "image/png": "[encoded data removed]"
          },
          "metadata": {
            "needs_background": "light"
          }
        }
      ]
    },
    {
      "cell_type": "code",
      "source": [
        "#let's evaualte the distribution of the residuals: \n",
        "\n",
        "sns.displot(residuals, bins = 30)\n",
        "plt.xlabel('Residuals')"
      ],
      "metadata": {
        "colab": {
          "base_uri": "https://localhost:8080/",
          "height": 386
        },
        "id": "5DJAOIV83EFY",
        "outputId": "4a854000-da0e-4f44-fbf8-072b2cf8a859"
      },
      "execution_count": 11,
      "outputs": [
        {
          "output_type": "execute_result",
          "data": {
            "text/plain": [
              "Text(0.5, 6.79999999999999, 'Residuals')"
            ]
          },
          "metadata": {},
          "execution_count": 11
        },
        {
          "output_type": "display_data",
          "data": {
            "text/plain": [
              "<Figure size 360x360 with 1 Axes>"
            ],
            "image/png": "[encoded data removed]"
          },
          "metadata": {
            "needs_background": "light"
          }
        }
      ]
    },
    {
      "cell_type": "markdown",
      "source": [
        "lets identify linear relationships in the boston dataset "
      ],
      "metadata": {
        "id": "9iiD2r7ThAJO"
      }
    },
    {
      "cell_type": "code",
      "source": [
        "import pandas as pd\n",
        "import numpy as np\n",
        "\n",
        "# for plotting\n",
        "import matplotlib.pyplot as plt\n",
        "import seaborn as sns\n",
        "\n",
        "# the dataset for the demo\n",
        "from sklearn.datasets import load_boston\n",
        "\n",
        "# for linear regression\n",
        "from sklearn.linear_model import LinearRegression"
      ],
      "metadata": {
        "id": "2rZg69xhhG2_"
      },
      "execution_count": 16,
      "outputs": []
    },
    {
      "cell_type": "code",
      "source": [
        "# load the the Boston House price data from scikit-learn\n",
        "\n",
        "# this is how we load the boston dataset from sklearn\n",
        "boston_dataset = load_boston()\n",
        "\n",
        "# create a dataframe with the independent variables\n",
        "boston = pd.DataFrame(boston_dataset.data,\n",
        "                      columns=boston_dataset.feature_names)\n",
        "\n",
        "# add the target\n",
        "boston['MEDV'] = boston_dataset.target\n",
        "\n",
        "boston.head()"
      ],
      "metadata": {
        "colab": {
          "base_uri": "https://localhost:8080/",
          "height": 831
        },
        "id": "r-BIb3eVhWQC",
        "outputId": "2e5a92a7-8409-4185-fc6d-7ac35b91f856"
      },
      "execution_count": 17,
      "outputs": [
        {
          "output_type": "stream",
          "name": "stderr",
          "text": [
            "/usr/local/lib/python3.7/dist-packages/sklearn/utils/deprecation.py:87: FutureWarning: Function load_boston is deprecated; `load_boston` is deprecated in 1.0 and will be removed in 1.2.\n",
            "\n",
            "    The Boston housing prices dataset has an ethical problem. You can refer to\n",
            "    the documentation of this function for further details.\n",
            "\n",
            "    The scikit-learn maintainers therefore strongly discourage the use of this\n",
            "    dataset unless the purpose of the code is to study and educate about\n",
            "    ethical issues in data science and machine learning.\n",
            "\n",
            "    In this special case, you can fetch the dataset from the original\n",
            "    source::\n",
            "\n",
            "        import pandas as pd\n",
            "        import numpy as np\n",
            "\n",
            "\n",
            "        data_url = \"http://lib.stat.cmu.edu/datasets/boston\"\n",
            "        raw_df = pd.read_csv(data_url, sep=\"\\s+\", skiprows=22, header=None)\n",
            "        data = np.hstack([raw_df.values[::2, :], raw_df.values[1::2, :2]])\n",
            "        target = raw_df.values[1::2, 2]\n",
            "\n",
            "    Alternative datasets include the California housing dataset (i.e.\n",
            "    :func:`~sklearn.datasets.fetch_california_housing`) and the Ames housing\n",
            "    dataset. You can load the datasets as follows::\n",
            "\n",
            "        from sklearn.datasets import fetch_california_housing\n",
            "        housing = fetch_california_housing()\n",
            "\n",
            "    for the California housing dataset and::\n",
            "\n",
            "        from sklearn.datasets import fetch_openml\n",
            "        housing = fetch_openml(name=\"house_prices\", as_frame=True)\n",
            "\n",
            "    for the Ames housing dataset.\n",
            "    \n",
            "  warnings.warn(msg, category=FutureWarning)\n"
          ]
        },
        {
          "output_type": "execute_result",
          "data": {
            "text/plain": [
              "      CRIM    ZN  INDUS  CHAS    NOX     RM   AGE     DIS  RAD    TAX  \\\n",
              "0  0.00632  18.0   2.31   0.0  0.538  6.575  65.2  4.0900  1.0  296.0   \n",
              "1  0.02731   0.0   7.07   0.0  0.469  6.421  78.9  4.9671  2.0  242.0   \n",
              "2  0.02729   0.0   7.07   0.0  0.469  7.185  61.1  4.9671  2.0  242.0   \n",
              "3  0.03237   0.0   2.18   0.0  0.458  6.998  45.8  6.0622  3.0  222.0   \n",
              "4  0.06905   0.0   2.18   0.0  0.458  7.147  54.2  6.0622  3.0  222.0   \n",
              "\n",
              "   PTRATIO       B  LSTAT  MEDV  \n",
              "0     15.3  396.90   4.98  24.0  \n",
              "1     17.8  396.90   9.14  21.6  \n",
              "2     17.8  392.83   4.03  34.7  \n",
              "3     18.7  394.63   2.94  33.4  \n",
              "4     18.7  396.90   5.33  36.2  "
            ],
            "text/html": [
              "\n",
              "  <div id=\"df-cd7973df-1d80-4768-a26e-09f24395a858\">\n",
              "    <div class=\"colab-df-container\">\n",
              "      <div>\n",
              "<style scoped>\n",
              "    .dataframe tbody tr th:only-of-type {\n",
              "        vertical-align: middle;\n",
              "    }\n",
              "\n",
              "    .dataframe tbody tr th {\n",
              "        vertical-align: top;\n",
              "    }\n",
              "\n",
              "    .dataframe thead th {\n",
              "        text-align: right;\n",
              "    }\n",
              "</style>\n",
              "<table border=\"1\" class=\"dataframe\">\n",
              "  <thead>\n",
              "    <tr style=\"text-align: right;\">\n",
              "      <th></th>\n",
              "      <th>CRIM</th>\n",
              "      <th>ZN</th>\n",
              "      <th>INDUS</th>\n",
              "      <th>CHAS</th>\n",
              "      <th>NOX</th>\n",
              "      <th>RM</th>\n",
              "      <th>AGE</th>\n",
              "      <th>DIS</th>\n",
              "      <th>RAD</th>\n",
              "      <th>TAX</th>\n",
              "      <th>PTRATIO</th>\n",
              "      <th>B</th>\n",
              "      <th>LSTAT</th>\n",
              "      <th>MEDV</th>\n",
              "    </tr>\n",
              "  </thead>\n",
              "  <tbody>\n",
              "    <tr>\n",
              "      <th>0</th>\n",
              "      <td>0.00632</td>\n",
              "      <td>18.0</td>\n",
              "      <td>2.31</td>\n",
              "      <td>0.0</td>\n",
              "      <td>0.538</td>\n",
              "      <td>6.575</td>\n",
              "      <td>65.2</td>\n",
              "      <td>4.0900</td>\n",
              "      <td>1.0</td>\n",
              "      <td>296.0</td>\n",
              "      <td>15.3</td>\n",
              "      <td>396.90</td>\n",
              "      <td>4.98</td>\n",
              "      <td>24.0</td>\n",
              "    </tr>\n",
              "    <tr>\n",
              "      <th>1</th>\n",
              "      <td>0.02731</td>\n",
              "      <td>0.0</td>\n",
              "      <td>7.07</td>\n",
              "      <td>0.0</td>\n",
              "      <td>0.469</td>\n",
              "      <td>6.421</td>\n",
              "      <td>78.9</td>\n",
              "      <td>4.9671</td>\n",
              "      <td>2.0</td>\n",
              "      <td>242.0</td>\n",
              "      <td>17.8</td>\n",
              "      <td>396.90</td>\n",
              "      <td>9.14</td>\n",
              "      <td>21.6</td>\n",
              "    </tr>\n",
              "    <tr>\n",
              "      <th>2</th>\n",
              "      <td>0.02729</td>\n",
              "      <td>0.0</td>\n",
              "      <td>7.07</td>\n",
              "      <td>0.0</td>\n",
              "      <td>0.469</td>\n",
              "      <td>7.185</td>\n",
              "      <td>61.1</td>\n",
              "      <td>4.9671</td>\n",
              "      <td>2.0</td>\n",
              "      <td>242.0</td>\n",
              "      <td>17.8</td>\n",
              "      <td>392.83</td>\n",
              "      <td>4.03</td>\n",
              "      <td>34.7</td>\n",
              "    </tr>\n",
              "    <tr>\n",
              "      <th>3</th>\n",
              "      <td>0.03237</td>\n",
              "      <td>0.0</td>\n",
              "      <td>2.18</td>\n",
              "      <td>0.0</td>\n",
              "      <td>0.458</td>\n",
              "      <td>6.998</td>\n",
              "      <td>45.8</td>\n",
              "      <td>6.0622</td>\n",
              "      <td>3.0</td>\n",
              "      <td>222.0</td>\n",
              "      <td>18.7</td>\n",
              "      <td>394.63</td>\n",
              "      <td>2.94</td>\n",
              "      <td>33.4</td>\n",
              "    </tr>\n",
              "    <tr>\n",
              "      <th>4</th>\n",
              "      <td>0.06905</td>\n",
              "      <td>0.0</td>\n",
              "      <td>2.18</td>\n",
              "      <td>0.0</td>\n",
              "      <td>0.458</td>\n",
              "      <td>7.147</td>\n",
              "      <td>54.2</td>\n",
              "      <td>6.0622</td>\n",
              "      <td>3.0</td>\n",
              "      <td>222.0</td>\n",
              "      <td>18.7</td>\n",
              "      <td>396.90</td>\n",
              "      <td>5.33</td>\n",
              "      <td>36.2</td>\n",
              "    </tr>\n",
              "  </tbody>\n",
              "</table>\n",
              "</div>\n",
              "      <button class=\"colab-df-convert\" onclick=\"convertToInteractive('df-cd7973df-1d80-4768-a26e-09f24395a858')\"\n",
              "              title=\"Convert this dataframe to an interactive table.\"\n",
              "              style=\"display:none;\">\n",
              "        \n",
              "  <svg xmlns=\"http://www.w3.org/2000/svg\" height=\"24px\"viewBox=\"0 0 24 24\"\n",
              "       width=\"24px\">\n",
              "    <path d=\"M0 0h24v24H0V0z\" fill=\"none\"/>\n",
              "    <path d=\"M18.56 5.44l.94 2.06.94-2.06 2.06-.94-2.06-.94-.94-2.06-.94 2.06-2.06.94zm-11 1L8.5 8.5l.94-2.06 2.06-.94-2.06-.94L8.5 2.5l-.94 2.06-2.06.94zm10 10l.94 2.06.94-2.06 2.06-.94-2.06-.94-.94-2.06-.94 2.06-2.06.94z\"/><path d=\"M17.41 7.96l-1.37-1.37c-.4-.4-.92-.59-1.43-.59-.52 0-1.04.2-1.43.59L10.3 9.45l-7.72 7.72c-.78.78-.78 2.05 0 2.83L4 21.41c.39.39.9.59 1.41.59.51 0 1.02-.2 1.41-.59l7.78-7.78 2.81-2.81c.8-.78.8-2.07 0-2.86zM5.41 20L4 18.59l7.72-7.72 1.47 1.35L5.41 20z\"/>\n",
              "  </svg>\n",
              "      </button>\n",
              "      \n",
              "  <style>\n",
              "    .colab-df-container {\n",
              "      display:flex;\n",
              "      flex-wrap:wrap;\n",
              "      gap: 12px;\n",
              "    }\n",
              "\n",
              "    .colab-df-convert {\n",
              "      background-color: #E8F0FE;\n",
              "      border: none;\n",
              "      border-radius: 50%;\n",
              "      cursor: pointer;\n",
              "      display: none;\n",
              "      fill: #1967D2;\n",
              "      height: 32px;\n",
              "      padding: 0 0 0 0;\n",
              "      width: 32px;\n",
              "    }\n",
              "\n",
              "    .colab-df-convert:hover {\n",
              "      background-color: #E2EBFA;\n",
              "      box-shadow: 0px 1px 2px rgba(60, 64, 67, 0.3), 0px 1px 3px 1px rgba(60, 64, 67, 0.15);\n",
              "      fill: #174EA6;\n",
              "    }\n",
              "\n",
              "    [theme=dark] .colab-df-convert {\n",
              "      background-color: #3B4455;\n",
              "      fill: #D2E3FC;\n",
              "    }\n",
              "\n",
              "    [theme=dark] .colab-df-convert:hover {\n",
              "      background-color: #434B5C;\n",
              "      box-shadow: 0px 1px 3px 1px rgba(0, 0, 0, 0.15);\n",
              "      filter: drop-shadow(0px 1px 2px rgba(0, 0, 0, 0.3));\n",
              "      fill: #FFFFFF;\n",
              "    }\n",
              "  </style>\n",
              "\n",
              "      <script>\n",
              "        const buttonEl =\n",
              "          document.querySelector('#df-cd7973df-1d80-4768-a26e-09f24395a858 button.colab-df-convert');\n",
              "        buttonEl.style.display =\n",
              "          google.colab.kernel.accessAllowed ? 'block' : 'none';\n",
              "\n",
              "        async function convertToInteractive(key) {\n",
              "          const element = document.querySelector('#df-cd7973df-1d80-4768-a26e-09f24395a858');\n",
              "          const dataTable =\n",
              "            await google.colab.kernel.invokeFunction('convertToInteractive',\n",
              "                                                     [key], {});\n",
              "          if (!dataTable) return;\n",
              "\n",
              "          const docLinkHtml = 'Like what you see? Visit the ' +\n",
              "            '<a target=\"_blank\" href=https://colab.research.google.com/notebooks/data_table.ipynb>data table notebook</a>'\n",
              "            + ' to learn more about interactive tables.';\n",
              "          element.innerHTML = '';\n",
              "          dataTable['output_type'] = 'display_data';\n",
              "          await google.colab.output.renderOutput(dataTable, element);\n",
              "          const docLink = document.createElement('div');\n",
              "          docLink.innerHTML = docLinkHtml;\n",
              "          element.appendChild(docLink);\n",
              "        }\n",
              "      </script>\n",
              "    </div>\n",
              "  </div>\n",
              "  "
            ]
          },
          "metadata": {},
          "execution_count": 17
        }
      ]
    },
    {
      "cell_type": "markdown",
      "source": [
        "The aim is to predict the \"Median value of the houses\" MEDV column of this dataset\n"
      ],
      "metadata": {
        "id": "DVEHEHNoicE4"
      }
    },
    {
      "cell_type": "code",
      "source": [
        "# let's make a scatter plot for the boston house price dataset\n",
        "# We plot the variable LASTvs the target MEDV\n",
        "\n",
        "sns.lmplot(x=\"LSTAT\", y=\"MEDV\", data=boston, order=1)"
      ],
      "metadata": {
        "colab": {
          "base_uri": "https://localhost:8080/",
          "height": 386
        },
        "id": "5gafxI2iiHJn",
        "outputId": "a493e1da-f3e4-4123-a25e-ea39e2ed7ae7"
      },
      "execution_count": 19,
      "outputs": [
        {
          "output_type": "execute_result",
          "data": {
            "text/plain": [
              "<seaborn.axisgrid.FacetGrid at 0x7f0db942c8d0>"
            ]
          },
          "metadata": {},
          "execution_count": 19
        },
        {
          "output_type": "display_data",
          "data": {
            "text/plain": [
              "<Figure size 360x360 with 1 Axes>"
            ],
            "image/png": "[encoded data removed]"
          },
          "metadata": {
            "needs_background": "light"
          }
        }
      ]
    },
    {
      "cell_type": "markdown",
      "source": [
        "We can observe that there is fairly linear relationship between these two varaibles "
      ],
      "metadata": {
        "id": "9itK5N8IjP-8"
      }
    },
    {
      "cell_type": "code",
      "source": [
        "sns.lmplot(x=\"CRIM\", y=\"MEDV\", data=boston, order=1)"
      ],
      "metadata": {
        "colab": {
          "base_uri": "https://localhost:8080/",
          "height": 386
        },
        "id": "LIKAI-StjK4X",
        "outputId": "451fb35b-e7e1-42e7-e39b-bd49ceb6d3ef"
      },
      "execution_count": 20,
      "outputs": [
        {
          "output_type": "execute_result",
          "data": {
            "text/plain": [
              "<seaborn.axisgrid.FacetGrid at 0x7f0db936ddd0>"
            ]
          },
          "metadata": {},
          "execution_count": 20
        },
        {
          "output_type": "display_data",
          "data": {
            "text/plain": [
              "<Figure size 360x360 with 1 Axes>"
            ],
            "image/png": "[encoded data removed]"
          },
          "metadata": {
            "needs_background": "light"
          }
        }
      ]
    },
    {
      "cell_type": "markdown",
      "source": [
        "Linear relationships can also be assessed by evaluating the residuals. Residuals are the difference between the value estimated by the linear relationship and the real output. If the relationship is linear, the residuals should be normally distributed and centered around zero."
      ],
      "metadata": {
        "id": "qoAXIxEAjmyy"
      }
    },
    {
      "cell_type": "code",
      "source": [
        "# now we do the same for the variable LSTAT of the boston\n",
        "# house price dataset from sklearn\n",
        "\n",
        "# call the linear model from sklearn\n",
        "linreg = LinearRegression()\n",
        "\n",
        "# fit the model\n",
        "linreg.fit(boston['LSTAT'].to_frame(), boston['MEDV'])\n",
        "\n",
        "# make the predictions\n",
        "pred = linreg.predict(boston['LSTAT'].to_frame())\n",
        "\n",
        "# calculate the residuals\n",
        "error = boston['MEDV'] - pred\n",
        "\n",
        "# plot predicted vs real\n",
        "plt.scatter(x=pred, y=boston['MEDV'])\n",
        "plt.xlabel('Predictions')\n",
        "plt.ylabel('MEDV')"
      ],
      "metadata": {
        "colab": {
          "base_uri": "https://localhost:8080/",
          "height": 296
        },
        "id": "yi76sYfsjgrk",
        "outputId": "cd6c5a27-7df0-4c60-bce5-5fa77b6739bb"
      },
      "execution_count": 22,
      "outputs": [
        {
          "output_type": "execute_result",
          "data": {
            "text/plain": [
              "Text(0, 0.5, 'MEDV')"
            ]
          },
          "metadata": {},
          "execution_count": 22
        },
        {
          "output_type": "display_data",
          "data": {
            "text/plain": [
              "<Figure size 432x288 with 1 Axes>"
            ],
            "image/png": "[encoded data removed]"
          },
          "metadata": {
            "needs_background": "light"
          }
        }
      ]
    },
    {
      "cell_type": "code",
      "source": [
        "# Residuals plot\n",
        "\n",
        "# if the relationship is linear, the noise should be\n",
        "# random, centered around zero, and follow a normal distribution\n",
        "\n",
        "plt.scatter(y=error, x=boston['LSTAT'])\n",
        "plt.ylabel('Residuals')\n",
        "plt.xlabel('LSTAT')"
      ],
      "metadata": {
        "colab": {
          "base_uri": "https://localhost:8080/",
          "height": 296
        },
        "id": "ACcLsFCKj3J8",
        "outputId": "756c51ff-4049-40d2-9e03-2fc91de7dfc7"
      },
      "execution_count": 23,
      "outputs": [
        {
          "output_type": "execute_result",
          "data": {
            "text/plain": [
              "Text(0.5, 0, 'LSTAT')"
            ]
          },
          "metadata": {},
          "execution_count": 23
        },
        {
          "output_type": "display_data",
          "data": {
            "text/plain": [
              "<Figure size 432x288 with 1 Axes>"
            ],
            "image/png": "[encoded data removed]"
          },
          "metadata": {
            "needs_background": "light"
          }
        }
      ]
    },
    {
      "cell_type": "code",
      "source": [
        "# plot a histogram of the residuals\n",
        "# they should follow a gaussian distribution\n",
        "sns.distplot(error, bins=30)"
      ],
      "metadata": {
        "colab": {
          "base_uri": "https://localhost:8080/",
          "height": 354
        },
        "id": "o1z7PobKj55d",
        "outputId": "ee6f5801-c507-49cf-b3ae-30608dce09ab"
      },
      "execution_count": 24,
      "outputs": [
        {
          "output_type": "stream",
          "name": "stderr",
          "text": [
            "/usr/local/lib/python3.7/dist-packages/seaborn/distributions.py:2619: FutureWarning: `distplot` is a deprecated function and will be removed in a future version. Please adapt your code to use either `displot` (a figure-level function with similar flexibility) or `histplot` (an axes-level function for histograms).\n",
            "  warnings.warn(msg, FutureWarning)\n"
          ]
        },
        {
          "output_type": "execute_result",
          "data": {
            "text/plain": [
              "<matplotlib.axes._subplots.AxesSubplot at 0x7f0db721fd90>"
            ]
          },
          "metadata": {},
          "execution_count": 24
        },
        {
          "output_type": "display_data",
          "data": {
            "text/plain": [
              "<Figure size 432x288 with 1 Axes>"
            ],
            "image/png": "[encoded data removed]"
          },
          "metadata": {
            "needs_background": "light"
          }
        }
      ]
    },
    {
      "cell_type": "markdown",
      "source": [
        "For this particular case, the residuals are centered around zero, but they are not homogeneously distributed across the values of LSTAT. Bigger and smaller values of LSTAT show higher residual values. In addition, we see in the histogram that the residuals do not adopt a strictly Gaussian distribution.\n",
        "\n"
      ],
      "metadata": {
        "id": "rjjLsWY0j8n9"
      }
    }
  ],
  "metadata": {
    "kernelspec": {
      "display_name": "feml",
      "language": "python",
      "name": "feml"
    },
    "language_info": {
      "codemirror_mode": {
        "name": "ipython",
        "version": 3
      },
      "file_extension": ".py",
      "mimetype": "text/x-python",
      "name": "python",
      "nbconvert_exporter": "python",
      "pygments_lexer": "ipython3",
      "version": "3.7.3"
    },
    "toc": {
      "base_numbering": 1,
      "nav_menu": {},
      "number_sections": true,
      "sideBar": true,
      "skip_h1_title": false,
      "title_cell": "Table of Contents",
      "title_sidebar": "Contents",
      "toc_cell": false,
      "toc_position": {},
      "toc_section_display": true,
      "toc_window_display": false
    },
    "colab": {
      "name": "Identifying-a-linear-relationship.ipynb",
      "provenance": [],
      "include_colab_link": true
    }
  },
  "nbformat": 4,
  "nbformat_minor": 0
}